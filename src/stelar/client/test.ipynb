{
 "cells": [
  {
   "cell_type": "code",
   "execution_count": null,
   "metadata": {},
   "outputs": [],
   "source": [
    "from client import Client\n",
    "from model import Resource, Dataset\n",
    "from IPython.display import display\n",
    "\n",
    "stelar = Client(\"https://klms.stelar.gr/stelar\", username=\"admin\", password=\"stelartuc\")\n",
    "\n",
    "\n",
    "dset = stelar.catalog.get_dataset(\"test_client_dataset_2\")\n",
    "display(dset)\n",
    "\n",
    "\n",
    "rsrc = Resource(\"s3://klms-bucket/test_path/obj.txt\",\"TXT\",\"A test resource published from the Client\")\n",
    "\n",
    "stelar.catalog.publish_dataset_resource(dset, rsrc)\n",
    "display(dset)\n"
   ]
  },
  {
   "cell_type": "code",
   "execution_count": null,
   "metadata": {},
   "outputs": [],
   "source": [
    "from client import Client\n",
    "from model import Resource, Dataset\n",
    "from IPython.display import display\n",
    "\n",
    "stelar = Client(\"https://klms.stelar.gr/stelar\", username=\"admin\", password=\"stelartuc\")\n",
    "\n",
    "policy_obj = stelar.admin.get_policy_info(\"active\")\n",
    "\n",
    "display(policy_obj)"
   ]
  },
  {
   "cell_type": "code",
   "execution_count": null,
   "metadata": {},
   "outputs": [],
   "source": [
    "from client import Client\n",
    "from model import Resource, Dataset, Policy\n",
    "from IPython.display import display\n",
    "\n",
    "stelar = Client(\"https://klms.stelar.gr/stelar\", username=\"admin\", password=\"stelartuc\")\n",
    "\n",
    "stelar.admin.get_policy_list()\n"
   ]
  },
  {
   "cell_type": "code",
   "execution_count": null,
   "metadata": {},
   "outputs": [],
   "source": [
    "from client import Client\n",
    "from model import Resource, Dataset\n",
    "from IPython.display import display\n",
    "\n",
    "stelar = Client(\"https://klms.stelar.gr/stelar\", username=\"admin\", password=\"stelartuc\")\n",
    "\n",
    "\n",
    "dset_list = stelar.catalog.get_datasets()\n",
    "for dset in dset_list:\n",
    "    display(dset)\n"
   ]
  },
  {
   "cell_type": "code",
   "execution_count": null,
   "metadata": {},
   "outputs": [],
   "source": [
    "from client import Client\n",
    "from model import Resource, Dataset\n",
    "from IPython.display import display\n",
    "\n",
    "stelar = Client(\"https://klms.stelar.gr/stelar\", username=\"admin\", password=\"stelartuc\")\n",
    "\n",
    "resource1 = Resource(\"s3://path/path/foo1.txt\",\"TXT\",\"Resource 1\")\n",
    "resource2 = Resource(\"s3://path/path/foo2.txt\",\"TXT\",\"Resource 2\")\n",
    "resource3 = Resource(\"s3://path/path/foo3.txt\",\"TXT\",\"Resource 3\")\n",
    "resource4 = Resource(\"s3://path/path/foo4.txt\",\"TXT\",\"Resource 4\")\n",
    "resource5 = Resource(\"s3://path/path/foo5.txt\",\"TXT\",\"Resource 5\")\n",
    "\n",
    "resources = [resource1,resource2,resource3,resource4,resource5]\n",
    "\n",
    "\n",
    "dset = Dataset(\"Test Client Dataset 3\",\"a dataset to test STELAR client\",[\"STELAR\",\"test\"])\n",
    "stelar.catalog.create_dataset(dset)\n",
    "\n",
    "display(dset)"
   ]
  },
  {
   "cell_type": "code",
   "execution_count": null,
   "metadata": {},
   "outputs": [],
   "source": [
    "from client import Client\n",
    "from model import Resource, Dataset\n",
    "from IPython.display import display\n",
    "\n",
    "stelar = Client(\"https://klms.stelar.gr/stelar\", username=\"admin\", password=\"stelartuc\")\n",
    "\n",
    "\n",
    "resource_list = stelar.catalog.get_dataset_resources(\"nikolakis_ananeomenos\")\n",
    "\n",
    "for resource in resource_list:\n",
    "    display(resource)"
   ]
  },
  {
   "cell_type": "code",
   "execution_count": null,
   "metadata": {},
   "outputs": [],
   "source": [
    "from client import Client\n",
    "from model import Resource, Dataset\n",
    "from IPython.display import display\n",
    "\n",
    "stelar = Client(\"https://klms.stelar.gr/stelar\", username=\"admin\", password=\"stelartuc\")\n",
    "\n",
    "\n",
    "resource = stelar.catalog.get_resource(\"5f0fbbfb-ef94-4fba-adf0-ef639461e330\")\n",
    "\n",
    "display(resource)\n",
    "\n",
    "dset = stelar.catalog.get_dataset(\"8a4fdc95-4ae4-42fc-b23d-b4b570f9781b\")\n",
    "\n",
    "display(dset)"
   ]
  },
  {
   "cell_type": "code",
   "execution_count": null,
   "metadata": {},
   "outputs": [],
   "source": [
    "from client import Client\n",
    "from model import Resource, Dataset\n",
    "from IPython.display import display\n",
    "\n",
    "stelar = Client(\"https://klms.stelar.gr/stelar\", username=\"admin\", password=\"stelartuc\")\n",
    "\n",
    "\n",
    "resource = stelar.catalog.delete_resource(\"5f0fbbfb-ef94-4fba-adf0-ef639461e330\")\n",
    "\n",
    "\n",
    "dset = stelar.catalog.get_resource(\"5f0fbbfb-ef94-4fba-adf0-ef639461e330\")\n",
    "display(resource)"
   ]
  },
  {
   "cell_type": "code",
   "execution_count": 2,
   "metadata": {},
   "outputs": [
    {
     "name": "stdout",
     "output_type": "stream",
     "text": [
      "Dataset with id: test_client_dataset_3 deleted successfully\n"
     ]
    }
   ],
   "source": [
    "from client import Client\n",
    "from model import Resource, Dataset\n",
    "from IPython.display import display\n",
    "\n",
    "stelar = Client(\"https://klms.stelar.gr/stelar\", username=\"admin\", password=\"stelartuc\")\n",
    "\n",
    "\n",
    "resource = stelar.catalog.delete_dataset(\"test_client_dataset_3\")\n",
    "\n",
    "\n",
    "# dset = stelar.catalog.get_resource(\"5f0fbbfb-ef94-4fba-adf0-ef639461e330\")\n",
    "# display(resource)"
   ]
  },
  {
   "cell_type": "code",
   "execution_count": null,
   "metadata": {},
   "outputs": [],
   "source": [
    "from client import Client\n",
    "from model import Resource, Dataset\n",
    "from IPython.display import display\n",
    "\n",
    "stelar = Client(\"https://klms.stelar.gr/stelar\", username=\"admin\", password=\"stelartuc\")\n",
    "\n",
    "resource = stelar.catalog.get_resource(\"f807fd44-3421-47c2-8654-3e1cb4630d5e\")\n",
    "display(resource)\n",
    "\n",
    "resource.name = \"Resource fully updated\"\n",
    "\n",
    "stelar.catalog.patch_resource(resource)\n",
    "\n",
    "display(resource)\n"
   ]
  }
 ],
 "metadata": {
  "kernelspec": {
   "display_name": "kc_minio",
   "language": "python",
   "name": "python3"
  },
  "language_info": {
   "codemirror_mode": {
    "name": "ipython",
    "version": 3
   },
   "file_extension": ".py",
   "mimetype": "text/x-python",
   "name": "python",
   "nbconvert_exporter": "python",
   "pygments_lexer": "ipython3",
   "version": "3.12.3"
  }
 },
 "nbformat": 4,
 "nbformat_minor": 4
}
